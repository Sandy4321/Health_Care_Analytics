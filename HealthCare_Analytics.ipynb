{
 "cells": [
  {
   "cell_type": "code",
   "execution_count": null,
   "metadata": {},
   "outputs": [],
   "source": [
    "import pandas as pd\n",
    "import numpy as np\n",
    "from sklearn.model_selection import train_test_split\n",
    "from sklearn.metrics import roc_auc_score\n",
    "from lightgbm import LGBMClassifier\n",
    "from xgboost import XGBClassifier\n",
    "import eli5\n",
    "from eli5.sklearn import PermutationImportance\n"
   ]
  },
  {
   "cell_type": "code",
   "execution_count": null,
   "metadata": {},
   "outputs": [],
   "source": [
    "#Importing DataSets\n",
    "train_df=pd.read_csv('C:/Users/UF145GV/Documents/DL/testing/Healthcare Analytics/Train/Train.csv')\n",
    "patient_df=pd.read_csv('C:/Users/UF145GV/Documents/DL/testing/Healthcare Analytics/Train/Patient_Profile.csv')\n",
    "Health_camp_df=pd.read_csv('C:/Users/UF145GV/Documents/DL/testing/Healthcare Analytics/Train/Health_Camp_Detail.csv')\n",
    "first_healthcamp_df=pd.read_csv('C:/Users/UF145GV/Documents/DL/testing/Healthcare Analytics/Train/First_Health_Camp_Attended.csv')\n",
    "second_healthcamp_df=pd.read_csv('C:/Users/UF145GV/Documents/DL/testing/Healthcare Analytics/Train/Second_Health_Camp_Attended.csv')\n",
    "third_healthcamp_df=pd.read_csv('C:/Users/UF145GV/Documents/DL/testing/Healthcare Analytics/Train/Third_Health_Camp_Attended.csv')\n",
    "\n",
    "test_df=pd.read_csv('C:/Users/UF145GV/Documents/DL/testing/Healthcare Analytics/test_l0Auv8Q.csv')"
   ]
  },
  {
   "cell_type": "code",
   "execution_count": null,
   "metadata": {},
   "outputs": [],
   "source": [
    "print(len(np.unique(Health_camp_df['Health_Camp_ID'])))"
   ]
  },
  {
   "cell_type": "code",
   "execution_count": null,
   "metadata": {
    "scrolled": true
   },
   "outputs": [],
   "source": [
    "#Merge First Health Camp Details\n",
    "train_df=pd.merge(train_df,first_healthcamp_df, on=['Patient_ID','Health_Camp_ID'], how='left')\n",
    "train_df=train_df.drop(['Unnamed: 4'], axis=1)\n",
    "#Merge Second Health Camp Details\n",
    "train_df=pd.merge(train_df,second_healthcamp_df, on=['Patient_ID', 'Health_Camp_ID'], how='left')\n",
    "#Merge Third Health Camp Details\n",
    "train_df=pd.merge(train_df,third_healthcamp_df, on=['Patient_ID', 'Health_Camp_ID'], how='left')\n",
    "\n",
    "\n",
    "train_df.head(10)"
   ]
  },
  {
   "cell_type": "code",
   "execution_count": null,
   "metadata": {},
   "outputs": [],
   "source": [
    "train_df.info()"
   ]
  },
  {
   "cell_type": "code",
   "execution_count": null,
   "metadata": {},
   "outputs": [],
   "source": [
    "#Making Target Variable(favourable Outcome)\n",
    "\n",
    "train_df['Outcome']=np.where((train_df['Health_Score'].isnull()==False) | (train_df['Health Score'].isnull()==False) | (train_df['Number_of_stall_visited'].isnull()==False),1,0)\n",
    "train_df=train_df.drop(['Donation','Health_Score','Health Score','Number_of_stall_visited','Last_Stall_Visited_Number'], axis=1)"
   ]
  },
  {
   "cell_type": "code",
   "execution_count": null,
   "metadata": {},
   "outputs": [],
   "source": [
    "train_df['Outcome'].value_counts()"
   ]
  },
  {
   "cell_type": "code",
   "execution_count": null,
   "metadata": {},
   "outputs": [],
   "source": [
    "train_df.head(10)"
   ]
  },
  {
   "cell_type": "code",
   "execution_count": null,
   "metadata": {},
   "outputs": [],
   "source": [
    "#Merging with Patient Details\n",
    "train_df=pd.merge(train_df,patient_df, on='Patient_ID', how='left', validate='m:1')\n",
    "#Merging With Health_Camp_Details\n",
    "train_df=pd.merge(train_df,Health_camp_df, on='Health_Camp_ID', how='left', validate='m:1')\n",
    "\n",
    "train_df.shape"
   ]
  },
  {
   "cell_type": "code",
   "execution_count": null,
   "metadata": {},
   "outputs": [],
   "source": [
    "test_df=pd.merge(test_df,patient_df, on='Patient_ID', how='left', validate='m:1')\n",
    "\n",
    "test_df=pd.merge(test_df,Health_camp_df, on='Health_Camp_ID', how='left', validate='m:1')\n",
    "\n",
    "test_df.shape\n"
   ]
  },
  {
   "cell_type": "code",
   "execution_count": null,
   "metadata": {},
   "outputs": [],
   "source": [
    "train_df=train_df[train_df['Registration_Date'].isnull()==False]\n",
    "# train_df['Registration_Date'].fillna('')\n",
    "train_df.info()"
   ]
  },
  {
   "cell_type": "code",
   "execution_count": null,
   "metadata": {},
   "outputs": [],
   "source": [
    "combine_set=pd.concat([train_df, test_df], ignore_index=True)\n",
    "combine_set.shape"
   ]
  },
  {
   "cell_type": "code",
   "execution_count": null,
   "metadata": {},
   "outputs": [],
   "source": [
    "combine_set=combine_set[combine_set['Education_Score']!='101']"
   ]
  },
  {
   "cell_type": "code",
   "execution_count": null,
   "metadata": {},
   "outputs": [],
   "source": [
    "#Transforming Category Variables\n",
    "combine_set['City_Type'].fillna('J', inplace=True)\n",
    "combine_set['Education_Score']=combine_set['Education_Score'].replace('None',0)\n",
    "combine_set['Education_Score']=combine_set['Education_Score'].astype(float)\n",
    "combine_set['Education_Score']=np.log1p(combine_set['Education_Score'])\n",
    "\n",
    "combine_set['Age']=combine_set['Age'].replace('None',25)\n",
    "combine_set['Age']=combine_set['Age'].astype(int)\n",
    "combine_set['Age']=np.log1p(combine_set['Age'])\n",
    "\n",
    "combine_set['Income']=combine_set['Income'].replace('None',7)\n",
    "combine_set['Income']=combine_set['Income'].astype(int)\n",
    "\n",
    "# from sklearn.preprocessing import LabelEncoder\n",
    "\n",
    "# le=LabelEncoder()\n",
    "\n",
    "# combine_set['City_Type']=le.fit_transform(combine_set['City_Type'])\n",
    "\n",
    "# combine_set['Category2']=le.fit_transform(combine_set['Category2'])\n",
    "fe=combine_set.groupby('City_Type').size()/len(combine_set)\n",
    "combine_set['City_Type']=combine_set['City_Type'].map(fe)\n",
    "\n",
    "fe=combine_set.groupby('Category2').size()/len(combine_set)\n",
    "combine_set['Category2']=combine_set['Category2'].map(fe)\n",
    "\n",
    "combine_set['Category1']=combine_set['Category1'].map({'First':1, 'Second':2, 'Third':3})\n",
    "\n",
    "\n",
    "combine_set.head(10)"
   ]
  },
  {
   "cell_type": "code",
   "execution_count": null,
   "metadata": {},
   "outputs": [],
   "source": [
    "combine_set['Var1']=np.log1p(combine_set['Var1'])\n",
    "\n",
    "combine_set['Var2']=np.log1p(combine_set['Var2'])\n",
    "\n",
    "combine_set['Var5']=np.log1p(combine_set['Var5'])\n",
    "\n",
    "combine_set.info()"
   ]
  },
  {
   "cell_type": "code",
   "execution_count": null,
   "metadata": {},
   "outputs": [],
   "source": []
  },
  {
   "cell_type": "code",
   "execution_count": null,
   "metadata": {},
   "outputs": [],
   "source": [
    "#Obtaining New Features\n",
    "combine_set['Registration_Date']=pd.to_datetime(combine_set['Registration_Date'], format='%d-%b-%y')\n",
    "combine_set['Registration_Date']=combine_set['Registration_Date'].apply(lambda x: x.toordinal())\n",
    "combine_set['Camp_Start_Date']=pd.to_datetime(combine_set['Camp_Start_Date'], format='%d-%b-%y')\n",
    "combine_set['Camp_Start_Date']=combine_set['Camp_Start_Date'].apply(lambda x: x.toordinal())\n",
    "combine_set['Camp_End_Date']=pd.to_datetime(combine_set['Camp_End_Date'], format='%d-%b-%y')\n",
    "combine_set['Camp_End_Date']=combine_set['Camp_End_Date'].apply(lambda x: x.toordinal())\n",
    "combine_set['First_Interaction']=pd.to_datetime(combine_set['First_Interaction'], format='%d-%b-%y')\n",
    "combine_set['First_Interaction']=combine_set['First_Interaction'].apply(lambda x: x.toordinal())\n",
    "\n",
    "combine_set['No_of_camp_days']=combine_set['Camp_End_Date']-combine_set['Camp_Start_Date']\n",
    "combine_set['Diff_in_CampStart_Registration']=combine_set['Camp_Start_Date']-combine_set['Registration_Date']\n",
    "combine_set['Diff_in_CampSEnd_Registration']=combine_set['Camp_End_Date']-combine_set['Registration_Date']\n",
    "combine_set['Diff_in_Registration_Interaction']=combine_set['Registration_Date']-combine_set['First_Interaction']\n",
    "combine_set['Diff_in_CampStart_First_Interaction']=combine_set['Camp_Start_Date']-combine_set['First_Interaction']\n"
   ]
  },
  {
   "cell_type": "code",
   "execution_count": null,
   "metadata": {},
   "outputs": [],
   "source": [
    "\n",
    "drop_cols=['Employer_Category','Patient_ID','Health_Camp_ID','Camp_Start_Date','Camp_End_Date','Registration_Date',\n",
    "           'Var4', 'Online_Follower','Facebook_Shared','Twitter_Shared','LinkedIn_Shared', 'Outcome']\n",
    "\n",
    "train_df=combine_set[combine_set['Outcome'].isnull()==False]\n",
    "test_df=combine_set[combine_set['Outcome'].isnull()==True]\n",
    "\n",
    "train_df.to_csv('C:/Users/UF145GV/Documents/DL/testing/Healthcare Analytics/train_temp.csv', index=False)\n",
    "\n",
    "train_df = train_df.sort_values(['Camp_Start_Date', 'Camp_End_Date', 'Patient_ID']).reset_index(drop=True)\n",
    "test_df = test_df.sort_values(['Camp_Start_Date', 'Camp_End_Date', 'Patient_ID']).reset_index(drop=True)\n",
    "\n",
    "X=train_df.drop(drop_cols, axis=1)\n",
    "Y=train_df['Outcome']\n",
    "\n",
    "X_main_test=test_df.drop(drop_cols,axis=1)"
   ]
  },
  {
   "cell_type": "code",
   "execution_count": null,
   "metadata": {},
   "outputs": [],
   "source": [
    "X.head(10)"
   ]
  },
  {
   "cell_type": "code",
   "execution_count": null,
   "metadata": {},
   "outputs": [],
   "source": [
    "# lg=LGBMClassifier(boosting_type='gbdt', max_depth=12, learning_rate=0.09, objective='binary', reg_alpha=0,\n",
    "#                   reg_lambda=1, n_jobs=-1, random_state=100, n_estimators=500)\n",
    "\n",
    "# lg.fit(X,Y)\n",
    "\n",
    "# print(roc_auc_score(Y_test,lg.predict(X_test)))"
   ]
  },
  {
   "cell_type": "code",
   "execution_count": null,
   "metadata": {},
   "outputs": [],
   "source": [
    "\n",
    "\n",
    "xg=XGBClassifier(booster='gbtree', max_depth=6, learning_rate=0.07, min_child_weight=5, subsample=0.8,\n",
    "                 objective='binary:logistic', n_jobs=-1, colsample_bylevel=1, colsample_bynode=1, colsample_bytree=0.7,\n",
    "                 random_state=100)\n",
    "\n",
    "xg.fit(X,Y)\n",
    "\n",
    "# print(roc_auc_score(Y_test,xg.predict(X_test)))"
   ]
  },
  {
   "cell_type": "code",
   "execution_count": null,
   "metadata": {},
   "outputs": [],
   "source": [
    "#Checking For Permutation Importance\n",
    "perm = PermutationImportance(xg,random_state=100).fit(X_test, Y_test)\n",
    "eli5.show_weights(perm,feature_names=X_test.columns.tolist())"
   ]
  },
  {
   "cell_type": "code",
   "execution_count": null,
   "metadata": {},
   "outputs": [],
   "source": [
    "#Predictions on Test Data\n",
    "predictions=xg.predict_proba(X_main_test)\n",
    "main_preds=[]\n",
    "for i in range(0, len(X_main_test)):\n",
    "    main_preds.append(predictions[i][1])\n",
    "\n"
   ]
  },
  {
   "cell_type": "code",
   "execution_count": null,
   "metadata": {},
   "outputs": [],
   "source": [
    "#Final Submission File\n",
    "d=pd.DataFrame()\n",
    "\n",
    "d=pd.concat([d,test_df['Patient_ID'],test_df['Health_Camp_ID'], pd.DataFrame(main_preds,columns=['Outcome'])], axis=1)\n",
    "d.head(10)\n",
    "\n",
    "d.to_csv('C:/Users/UF145GV/Documents/DL/testing/Healthcare Analytics/main_test.csv', index=False)"
   ]
  },
  {
   "cell_type": "code",
   "execution_count": null,
   "metadata": {},
   "outputs": [],
   "source": [
    "# submission_file=pd.read_csv('C:/Users/UF145GV/Documents/DL/testing/Healthcare Analytics/sample_submmission.csv')\n",
    "\n",
    "# submission_file['Outcome']=main_preds\n",
    "\n",
    "# submission_file.to_csv('C:/Users/UF145GV/Documents/DL/testing/Healthcare Analytics/main_test.csv', index=False)"
   ]
  }
 ],
 "metadata": {
  "kernelspec": {
   "display_name": "Python 3",
   "language": "python",
   "name": "python3"
  },
  "language_info": {
   "codemirror_mode": {
    "name": "ipython",
    "version": 3
   },
   "file_extension": ".py",
   "mimetype": "text/x-python",
   "name": "python",
   "nbconvert_exporter": "python",
   "pygments_lexer": "ipython3",
   "version": "3.7.6"
  }
 },
 "nbformat": 4,
 "nbformat_minor": 4
}
